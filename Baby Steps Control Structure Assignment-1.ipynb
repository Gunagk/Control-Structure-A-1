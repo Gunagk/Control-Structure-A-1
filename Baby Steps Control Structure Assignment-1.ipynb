{
 "cells": [
  {
   "cell_type": "code",
   "execution_count": 1,
   "id": "17ac0193",
   "metadata": {},
   "outputs": [
    {
     "name": "stdout",
     "output_type": "stream",
     "text": [
      "Welcome To Assignment-1\n"
     ]
    }
   ],
   "source": [
    "print(\"Welcome To Assignment-1\")"
   ]
  },
  {
   "cell_type": "code",
   "execution_count": 2,
   "id": "a4b5abe8",
   "metadata": {},
   "outputs": [
    {
     "name": "stdout",
     "output_type": "stream",
     "text": [
      "num1=10\n",
      "num2=30\n",
      "add= 40\n"
     ]
    }
   ],
   "source": [
    "num1=int(input(\"num1=\"))\n",
    "num2=int(input(\"num2=\"))\n",
    "add=(num1+num2)\n",
    "print(\"add=\",add)"
   ]
  },
  {
   "cell_type": "code",
   "execution_count": 3,
   "id": "a7151dfd",
   "metadata": {},
   "outputs": [],
   "source": [
    "#Body Mass Index"
   ]
  },
  {
   "cell_type": "code",
   "execution_count": 16,
   "id": "d005ce03",
   "metadata": {},
   "outputs": [
    {
     "name": "stdout",
     "output_type": "stream",
     "text": [
      "Enter The BMI Index:45\n",
      "Obeseclass3\n"
     ]
    }
   ],
   "source": [
    "Index=(int(input(\"Enter The BMI Index:\")))\n",
    "if(Index<18.5):\n",
    "    print(\"Underweight\")\n",
    "elif(Index<24.9):\n",
    "    print(\"Normal range\")\n",
    "elif(Index<29.9):\n",
    "    print(\"Overweight\")\n",
    "elif(Index<30):\n",
    "    print(\"Obese\")\n",
    "elif(Index<34.9):\n",
    "    print(\"Obese class 1\")\n",
    "elif(Index<35.0):\n",
    "    print(\"Obese class 2\")\n",
    "else:\n",
    "    print(\"Obeseclass3\")"
   ]
  },
  {
   "cell_type": "code",
   "execution_count": null,
   "id": "daf454de",
   "metadata": {},
   "outputs": [],
   "source": []
  }
 ],
 "metadata": {
  "kernelspec": {
   "display_name": "Python 3 (ipykernel)",
   "language": "python",
   "name": "python3"
  },
  "language_info": {
   "codemirror_mode": {
    "name": "ipython",
    "version": 3
   },
   "file_extension": ".py",
   "mimetype": "text/x-python",
   "name": "python",
   "nbconvert_exporter": "python",
   "pygments_lexer": "ipython3",
   "version": "3.11.5"
  }
 },
 "nbformat": 4,
 "nbformat_minor": 5
}
